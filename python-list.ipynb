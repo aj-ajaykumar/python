{
 "cells": [
  {
   "cell_type": "markdown",
   "id": "30c86f35",
   "metadata": {},
   "source": [
    "# List"
   ]
  },
  {
   "cell_type": "markdown",
   "id": "ef1f68de",
   "metadata": {},
   "source": [
    "Lists are used to store multiple items in a single variable.\n",
    "\n",
    "Lists are one of 4 built-in data types in Python used to store collections of data, the other 3 are Tuple, Set, and Dictionary, all with different qualities and usage.\n",
    "\n",
    "Lists are created using square brackets: []\n",
    "\n"
   ]
  },
  {
   "cell_type": "code",
   "execution_count": null,
   "id": "72fce32a",
   "metadata": {},
   "outputs": [],
   "source": [
    "aj = ['aj', 1,2, 2.5,5,'a12']"
   ]
  },
  {
   "cell_type": "code",
   "execution_count": null,
   "id": "a0e0746c",
   "metadata": {
    "scrolled": true
   },
   "outputs": [],
   "source": [
    "aj"
   ]
  },
  {
   "cell_type": "markdown",
   "id": "bfd43e95",
   "metadata": {},
   "source": [
    "# List Items\n",
    "\n",
    "List items are ordered, changeable, and allow duplicate values.\n",
    "\n",
    "List items are indexed, the first item has index [0], the second item has index [1] etc."
   ]
  },
  {
   "cell_type": "code",
   "execution_count": null,
   "id": "ca78e55d",
   "metadata": {},
   "outputs": [],
   "source": [
    "aj[0]"
   ]
  },
  {
   "cell_type": "code",
   "execution_count": null,
   "id": "305635e7",
   "metadata": {},
   "outputs": [],
   "source": [
    "aj[5]"
   ]
  },
  {
   "cell_type": "code",
   "execution_count": null,
   "id": "2f1c4d25",
   "metadata": {},
   "outputs": [],
   "source": [
    "aj[-1]"
   ]
  },
  {
   "cell_type": "markdown",
   "id": "5c648058",
   "metadata": {},
   "source": [
    "# Ordered\n",
    "When we say that lists are ordered, it means that the items have a defined order, and that order will not change.\n",
    "\n",
    "If you add new items to a list, the new items will be placed at the end of the list.\n",
    "\n",
    "Note: There are some list methods that will change the order, but in general: the order of the items will not change.\n",
    "\n"
   ]
  },
  {
   "cell_type": "code",
   "execution_count": null,
   "id": "8a4ffae2",
   "metadata": {},
   "outputs": [],
   "source": [
    "aj.append(25)"
   ]
  },
  {
   "cell_type": "code",
   "execution_count": null,
   "id": "2e642c7e",
   "metadata": {},
   "outputs": [],
   "source": [
    "aj\n"
   ]
  },
  {
   "cell_type": "markdown",
   "id": "063cc780",
   "metadata": {},
   "source": [
    "# Changeable\n",
    "The list is changeable, meaning that we can change, add, and remove items in a list after it has been created.\n",
    "\n"
   ]
  },
  {
   "cell_type": "code",
   "execution_count": null,
   "id": "97bc96c6",
   "metadata": {},
   "outputs": [],
   "source": [
    "bheem = []"
   ]
  },
  {
   "cell_type": "code",
   "execution_count": null,
   "id": "5ee17632",
   "metadata": {},
   "outputs": [],
   "source": [
    "bheem.append(25,20,'aj','ABSD1')"
   ]
  },
  {
   "cell_type": "code",
   "execution_count": null,
   "id": "d9ba409c",
   "metadata": {},
   "outputs": [],
   "source": [
    "bheem.append(25)\n",
    "bheem.append(2)\n",
    "bheem.append('aj')\n",
    "bheem.append('ABSD')\n",
    "bheem.append(20.5)"
   ]
  },
  {
   "cell_type": "code",
   "execution_count": null,
   "id": "11c13c03",
   "metadata": {},
   "outputs": [],
   "source": [
    "bheem"
   ]
  },
  {
   "cell_type": "code",
   "execution_count": null,
   "id": "86bc1140",
   "metadata": {},
   "outputs": [],
   "source": []
  },
  {
   "cell_type": "markdown",
   "id": "946a213d",
   "metadata": {},
   "source": [
    "# Allow Duplicates\n",
    "Since lists are indexed, lists can have items with the same value:"
   ]
  },
  {
   "cell_type": "code",
   "execution_count": null,
   "id": "5858964e",
   "metadata": {},
   "outputs": [],
   "source": [
    "bheem.append('ABSD')\n",
    "bheem.append(20.5)"
   ]
  },
  {
   "cell_type": "code",
   "execution_count": null,
   "id": "78625e8b",
   "metadata": {},
   "outputs": [],
   "source": [
    "bheem"
   ]
  },
  {
   "cell_type": "markdown",
   "id": "12890610",
   "metadata": {},
   "source": [
    "# List Length\n",
    "To determine how many items a list has, use the len() function:"
   ]
  },
  {
   "cell_type": "code",
   "execution_count": null,
   "id": "87b96802",
   "metadata": {},
   "outputs": [],
   "source": [
    "len(bheem)"
   ]
  },
  {
   "cell_type": "markdown",
   "id": "dbba93c0",
   "metadata": {},
   "source": [
    "# List Items - Data Types\n",
    "List items can be of any data type\n",
    "\n",
    "A list can contain different data types"
   ]
  },
  {
   "cell_type": "code",
   "execution_count": null,
   "id": "aafdf688",
   "metadata": {},
   "outputs": [],
   "source": [
    "list1 = ['a','b','c']\n",
    "list2 =[1,2.2,20.5,368]\n",
    "list3 = [True,False,False,True] "
   ]
  },
  {
   "cell_type": "code",
   "execution_count": null,
   "id": "0adb659a",
   "metadata": {},
   "outputs": [],
   "source": [
    "list1"
   ]
  },
  {
   "cell_type": "code",
   "execution_count": null,
   "id": "853dd8d1",
   "metadata": {},
   "outputs": [],
   "source": [
    "list2"
   ]
  },
  {
   "cell_type": "code",
   "execution_count": null,
   "id": "42e0a705",
   "metadata": {},
   "outputs": [],
   "source": [
    "list3"
   ]
  },
  {
   "cell_type": "code",
   "execution_count": null,
   "id": "ebcef5c5",
   "metadata": {},
   "outputs": [],
   "source": [
    "list = ['a','b','c',1,2.2,20.5,368,True,False,False,True]"
   ]
  },
  {
   "cell_type": "code",
   "execution_count": null,
   "id": "0b2bb84f",
   "metadata": {},
   "outputs": [],
   "source": [
    "list"
   ]
  },
  {
   "cell_type": "markdown",
   "id": "eba74986",
   "metadata": {},
   "source": [
    "# type()\n",
    "From Python's perspective, lists are defined as objects with the data type 'list':"
   ]
  },
  {
   "cell_type": "code",
   "execution_count": null,
   "id": "a4594776",
   "metadata": {},
   "outputs": [],
   "source": [
    "type(bheem)"
   ]
  },
  {
   "cell_type": "markdown",
   "id": "a9107ab5",
   "metadata": {},
   "source": [
    "# The list() Constructor\n",
    "It is also possible to use the list() constructor when creating a new list."
   ]
  },
  {
   "cell_type": "code",
   "execution_count": null,
   "id": "73059642",
   "metadata": {},
   "outputs": [],
   "source": [
    "bhee = list((1,2,3,40)) # note the double round-brackets"
   ]
  },
  {
   "cell_type": "markdown",
   "id": "14edda3d",
   "metadata": {},
   "source": [
    "# Python Collections (Arrays)\n",
    "There are four collection data types in the Python programming language:\n",
    "\n",
    "List is a collection which is ordered and changeable. Allows duplicate members.<br>\n",
    "Tuple is a collection which is ordered and unchangeable. Allows duplicate members.<br>\n",
    "Set is a collection which is unordered, unchangeable*, and unindexed. No duplicate members.<br>\n",
    "Dictionary is a collection which is ordered** and changeable. No duplicate members.<br>\n",
    "\n",
    "*Set items are unchangeable, but you can remove and/or add items whenever you like.<br>\n",
    "\n",
    "**As of Python version 3.7, dictionaries are ordered. In Python 3.6 and earlier, dictionaries are unordered.\n",
    "\n",
    "When choosing a collection type, it is useful to understand the properties of that type. Choosing the right type for a particular data set could mean retention of meaning, and, it could mean an increase in efficiency or security."
   ]
  },
  {
   "cell_type": "markdown",
   "id": "f97c45ea",
   "metadata": {},
   "source": [
    "# Python - Access List Items"
   ]
  },
  {
   "cell_type": "markdown",
   "id": "ed15c293",
   "metadata": {},
   "source": [
    "## Access Items\n",
    "List items are indexed and you can access them by referring to the index number:"
   ]
  },
  {
   "cell_type": "code",
   "execution_count": null,
   "id": "251fafa4",
   "metadata": {},
   "outputs": [],
   "source": [
    "bheem[0]"
   ]
  },
  {
   "cell_type": "markdown",
   "id": "31a7b8f8",
   "metadata": {},
   "source": [
    "## Negative Indexing\n",
    "Negative indexing means start from the end\n",
    "\n",
    "-1 refers to the last item, -2 refers to the second last item etc."
   ]
  },
  {
   "cell_type": "code",
   "execution_count": null,
   "id": "0d928286",
   "metadata": {},
   "outputs": [],
   "source": [
    "bheem[-2]"
   ]
  },
  {
   "cell_type": "markdown",
   "id": "8132918b",
   "metadata": {},
   "source": [
    "## Range of Indexes\n",
    "You can specify a range of indexes by specifying where to start and where to end the range.\n",
    "\n",
    "When specifying a range, the return value will be a new list with the specified items.\n",
    "\n",
    "Example"
   ]
  },
  {
   "cell_type": "code",
   "execution_count": null,
   "id": "a1d48ba8",
   "metadata": {},
   "outputs": [],
   "source": [
    "bheem[2:5]"
   ]
  },
  {
   "cell_type": "markdown",
   "id": "4b579419",
   "metadata": {},
   "source": [
    "Note: The search will start at index 2 (included) and end at index 5 (not included)."
   ]
  },
  {
   "cell_type": "code",
   "execution_count": null,
   "id": "c35e2685",
   "metadata": {},
   "outputs": [],
   "source": [
    "bheem[0:5]"
   ]
  },
  {
   "cell_type": "markdown",
   "id": "343630b4",
   "metadata": {},
   "source": [
    "By leaving out the end value, the range will go on to the end of the list:"
   ]
  },
  {
   "cell_type": "code",
   "execution_count": null,
   "id": "6f3e63b9",
   "metadata": {},
   "outputs": [],
   "source": [
    "bheem[2:]"
   ]
  },
  {
   "cell_type": "markdown",
   "id": "4525768d",
   "metadata": {},
   "source": [
    "### Range of Negative Indexes<br>\n",
    "Specify negative indexes if you want to start the search from the end of the list:"
   ]
  },
  {
   "cell_type": "code",
   "execution_count": null,
   "id": "4fa5e27c",
   "metadata": {},
   "outputs": [],
   "source": [
    "bheem[-4:-1]"
   ]
  },
  {
   "cell_type": "markdown",
   "id": "2085dc97",
   "metadata": {},
   "source": [
    "### Check if Item Exists<br>\n",
    "To determine if a specified item is present in a list use the in keyword:"
   ]
  },
  {
   "cell_type": "code",
   "execution_count": null,
   "id": "f85d6557",
   "metadata": {},
   "outputs": [],
   "source": [
    "if 'ABSD' in bheem:\n",
    "    print(True)"
   ]
  },
  {
   "cell_type": "markdown",
   "id": "7d063ffd",
   "metadata": {},
   "source": [
    "# Python - Change List Items\n",
    "\n",
    "To change the value of a specific item, refer to the index number:"
   ]
  },
  {
   "cell_type": "code",
   "execution_count": null,
   "id": "c4e4f0d8",
   "metadata": {},
   "outputs": [],
   "source": [
    "bheem"
   ]
  },
  {
   "cell_type": "code",
   "execution_count": null,
   "id": "72ea61a0",
   "metadata": {},
   "outputs": [],
   "source": [
    "bheem[1] = 'ram'"
   ]
  },
  {
   "cell_type": "code",
   "execution_count": null,
   "id": "688aa2f7",
   "metadata": {},
   "outputs": [],
   "source": [
    "bheem"
   ]
  },
  {
   "cell_type": "markdown",
   "id": "1a652d3c",
   "metadata": {},
   "source": [
    "## Change a Range of Item Values\n",
    "To change the value of items within a specific range, define a list with the new values, and refer to the range of index numbers where you want to insert the new values:"
   ]
  },
  {
   "cell_type": "code",
   "execution_count": null,
   "id": "92773a21",
   "metadata": {},
   "outputs": [],
   "source": [
    "bheem[1:3] = ['aa',2558]"
   ]
  },
  {
   "cell_type": "code",
   "execution_count": null,
   "id": "7bced90d",
   "metadata": {},
   "outputs": [],
   "source": [
    "bheem"
   ]
  },
  {
   "cell_type": "markdown",
   "id": "8d4f91be",
   "metadata": {},
   "source": [
    "If you insert more items than you replace, the new items will be inserted where you specified, and the remaining items will move accordingly:\n",
    "\n",
    "Note: The length of the list will change when the number of items inserted does not match the number of items replaced."
   ]
  },
  {
   "cell_type": "code",
   "execution_count": null,
   "id": "19c50b81",
   "metadata": {},
   "outputs": [],
   "source": [
    "bheem[1:2] = ['kk',989]"
   ]
  },
  {
   "cell_type": "code",
   "execution_count": null,
   "id": "4fa68103",
   "metadata": {},
   "outputs": [],
   "source": [
    "bheem"
   ]
  },
  {
   "cell_type": "markdown",
   "id": "4fff7938",
   "metadata": {},
   "source": [
    "If you insert less items than you replace, the new items will be inserted where you specified, and the remaining items will move accordingly:"
   ]
  },
  {
   "cell_type": "code",
   "execution_count": null,
   "id": "f7d86abd",
   "metadata": {},
   "outputs": [],
   "source": [
    "bheem[10:13] = ['python']"
   ]
  },
  {
   "cell_type": "code",
   "execution_count": null,
   "id": "ec9383cf",
   "metadata": {},
   "outputs": [],
   "source": [
    "bheem"
   ]
  },
  {
   "cell_type": "markdown",
   "id": "28117a4f",
   "metadata": {},
   "source": [
    "# Python - Add List Items\n",
    "To add an item to the end of the list, use the append() method:"
   ]
  },
  {
   "cell_type": "code",
   "execution_count": null,
   "id": "4dd73c25",
   "metadata": {},
   "outputs": [],
   "source": [
    " bheem.append('santhosh')"
   ]
  },
  {
   "cell_type": "code",
   "execution_count": null,
   "id": "ea01a3e2",
   "metadata": {},
   "outputs": [],
   "source": [
    "bheem"
   ]
  },
  {
   "cell_type": "markdown",
   "id": "70774d93",
   "metadata": {},
   "source": [
    "## Insert Items\n",
    "To insert a list item at a specified index, use the insert() method.\n",
    "\n",
    "The insert() method inserts an item at the specified index:\n"
   ]
  },
  {
   "cell_type": "code",
   "execution_count": null,
   "id": "116845b2",
   "metadata": {},
   "outputs": [],
   "source": [
    "bheem.insert(1,'inserted')"
   ]
  },
  {
   "cell_type": "code",
   "execution_count": null,
   "id": "9685bd89",
   "metadata": {},
   "outputs": [],
   "source": [
    "bheem"
   ]
  },
  {
   "cell_type": "markdown",
   "id": "cb01a3dc",
   "metadata": {},
   "source": [
    "## Extend List\n",
    "To append elements from another list to the current list, use the extend() method."
   ]
  },
  {
   "cell_type": "code",
   "execution_count": null,
   "id": "9840fc8a",
   "metadata": {},
   "outputs": [],
   "source": [
    "list1"
   ]
  },
  {
   "cell_type": "code",
   "execution_count": null,
   "id": "39408642",
   "metadata": {},
   "outputs": [],
   "source": [
    "list2"
   ]
  },
  {
   "cell_type": "code",
   "execution_count": null,
   "id": "666a8c5d",
   "metadata": {},
   "outputs": [],
   "source": [
    "list1.extend(list2)"
   ]
  },
  {
   "cell_type": "code",
   "execution_count": null,
   "id": "085707cb",
   "metadata": {},
   "outputs": [],
   "source": [
    "list1"
   ]
  },
  {
   "cell_type": "markdown",
   "id": "1d3be9d8",
   "metadata": {},
   "source": [
    "## Add Any Iterable\n",
    "The extend() method does not have to append lists, you can add any iterable object (tuples, sets, dictionaries etc.)."
   ]
  },
  {
   "cell_type": "code",
   "execution_count": null,
   "id": "039afff7",
   "metadata": {},
   "outputs": [],
   "source": [
    "list2"
   ]
  },
  {
   "cell_type": "code",
   "execution_count": null,
   "id": "1d28e2b6",
   "metadata": {},
   "outputs": [],
   "source": [
    "tuple = (1,2,3)"
   ]
  },
  {
   "cell_type": "code",
   "execution_count": null,
   "id": "88b846ed",
   "metadata": {},
   "outputs": [],
   "source": [
    "list2.extend(tuple)"
   ]
  },
  {
   "cell_type": "code",
   "execution_count": null,
   "id": "543cc4aa",
   "metadata": {},
   "outputs": [],
   "source": [
    "list2"
   ]
  },
  {
   "cell_type": "markdown",
   "id": "f9c3a47b",
   "metadata": {},
   "source": [
    "# Python - Remove List Items\n",
    "The remove() method removes the specified item."
   ]
  },
  {
   "cell_type": "code",
   "execution_count": null,
   "id": "e3226ee1",
   "metadata": {},
   "outputs": [],
   "source": [
    "list2.remove(368)"
   ]
  },
  {
   "cell_type": "code",
   "execution_count": null,
   "id": "0d842a14",
   "metadata": {},
   "outputs": [],
   "source": [
    "list2"
   ]
  },
  {
   "cell_type": "markdown",
   "id": "b74762ca",
   "metadata": {},
   "source": [
    "## Remove Specified Index\n",
    "The pop() method removes the specified index."
   ]
  },
  {
   "cell_type": "code",
   "execution_count": null,
   "id": "dc4868f1",
   "metadata": {},
   "outputs": [],
   "source": [
    "list2.pop(0)"
   ]
  },
  {
   "cell_type": "code",
   "execution_count": null,
   "id": "af39da5f",
   "metadata": {},
   "outputs": [],
   "source": [
    "list2"
   ]
  },
  {
   "cell_type": "markdown",
   "id": "cfc9a21e",
   "metadata": {},
   "source": [
    "If you do not specify the index, the pop() method removes the last item."
   ]
  },
  {
   "cell_type": "code",
   "execution_count": null,
   "id": "4725019f",
   "metadata": {},
   "outputs": [],
   "source": [
    "list2.pop()"
   ]
  },
  {
   "cell_type": "code",
   "execution_count": null,
   "id": "2d20fdc8",
   "metadata": {},
   "outputs": [],
   "source": [
    "list2"
   ]
  },
  {
   "cell_type": "markdown",
   "id": "39047c15",
   "metadata": {},
   "source": [
    "## del \n",
    "The del keyword also removes the specified index:"
   ]
  },
  {
   "cell_type": "code",
   "execution_count": null,
   "id": "9b5c45e6",
   "metadata": {},
   "outputs": [],
   "source": [
    "del list2[0]"
   ]
  },
  {
   "cell_type": "code",
   "execution_count": null,
   "id": "c38c3c14",
   "metadata": {},
   "outputs": [],
   "source": [
    "list2"
   ]
  },
  {
   "cell_type": "markdown",
   "id": "fda5a9e9",
   "metadata": {},
   "source": [
    "The del keyword can also delete the list completely."
   ]
  },
  {
   "cell_type": "code",
   "execution_count": null,
   "id": "e45fdf98",
   "metadata": {},
   "outputs": [],
   "source": [
    "del list2"
   ]
  },
  {
   "cell_type": "code",
   "execution_count": null,
   "id": "33f23948",
   "metadata": {},
   "outputs": [],
   "source": [
    "list2"
   ]
  },
  {
   "cell_type": "markdown",
   "id": "7b38d831",
   "metadata": {},
   "source": [
    "## Clear the List\n",
    "The clear() method empties the list.\n",
    "\n",
    "The list still remains, but it has no content."
   ]
  },
  {
   "cell_type": "code",
   "execution_count": null,
   "id": "9d9848b3",
   "metadata": {},
   "outputs": [],
   "source": [
    "list4 = [1,2,2.5,'aa']"
   ]
  },
  {
   "cell_type": "code",
   "execution_count": null,
   "id": "85485f5f",
   "metadata": {},
   "outputs": [],
   "source": [
    "list4.clear()"
   ]
  },
  {
   "cell_type": "code",
   "execution_count": null,
   "id": "bbb72318",
   "metadata": {},
   "outputs": [],
   "source": [
    "list4"
   ]
  },
  {
   "cell_type": "markdown",
   "id": "6949a69a",
   "metadata": {},
   "source": [
    "# Python - Loop Lists\n",
    "You can loop through the list items by using a for loop:"
   ]
  },
  {
   "cell_type": "code",
   "execution_count": null,
   "id": "0a3fb2f6",
   "metadata": {},
   "outputs": [],
   "source": [
    "def ak():\n",
    "    lst= [1,2,3,'a']\n",
    "    for i in lst:\n",
    "        return i\n",
    "    \n",
    "ak()"
   ]
  },
  {
   "cell_type": "code",
   "execution_count": null,
   "id": "b1655ac7",
   "metadata": {},
   "outputs": [],
   "source": [
    "for i in list3:\n",
    "    print(i)"
   ]
  },
  {
   "cell_type": "markdown",
   "id": "7bb2941b",
   "metadata": {},
   "source": [
    "## Loop Through the Index Numbers\n",
    "You can also loop through the list items by referring to their index number.\n",
    "\n",
    "Use the range() and len() functions to create a suitable iterable."
   ]
  },
  {
   "cell_type": "code",
   "execution_count": null,
   "id": "5dcedc2d",
   "metadata": {},
   "outputs": [],
   "source": [
    "for i in range(len(list3)):\n",
    "    print(list3[i])"
   ]
  },
  {
   "cell_type": "markdown",
   "id": "5c178c20",
   "metadata": {},
   "source": [
    "## Using a While Loop\n",
    "You can loop through the list items by using a while loop.\n",
    "\n",
    "Use the len() function to determine the length of the list, then start at 0 and loop your way through the list items by referring to their indexes.\n",
    "\n",
    "Remember to increase the index by 1 after each iteration."
   ]
  },
  {
   "cell_type": "code",
   "execution_count": 5,
   "id": "d637f1df",
   "metadata": {},
   "outputs": [
    {
     "name": "stdout",
     "output_type": "stream",
     "text": [
      "1\n",
      "2\n",
      "3\n",
      "4\n"
     ]
    }
   ],
   "source": [
    "list5 = [1,2,3,4]\n",
    "i = 0\n",
    "while i < len(list5):\n",
    "    print(list5[i])\n",
    "    i +=1 "
   ]
  },
  {
   "cell_type": "markdown",
   "id": "d0cc59c5",
   "metadata": {},
   "source": [
    "## Looping Using List Comprehension\n",
    "List Comprehension offers the shortest syntax for looping through lists:"
   ]
  },
  {
   "cell_type": "code",
   "execution_count": 6,
   "id": "9bbbb05f",
   "metadata": {},
   "outputs": [
    {
     "name": "stdout",
     "output_type": "stream",
     "text": [
      "1\n",
      "2\n",
      "3\n",
      "4\n"
     ]
    },
    {
     "data": {
      "text/plain": [
       "[None, None, None, None]"
      ]
     },
     "execution_count": 6,
     "metadata": {},
     "output_type": "execute_result"
    }
   ],
   "source": [
    "[print(x) for x in list5]"
   ]
  },
  {
   "cell_type": "markdown",
   "id": "87ed35ad",
   "metadata": {},
   "source": [
    "# Python - List Comprehension\n",
    "List comprehension offers a shorter syntax when you want to create a new list based on the values of an existing list.\n",
    "\n",
    "Example:\n",
    "\n",
    "Based on a list of fruits, you want a new list, containing only the fruits with the letter \"a\" in the name.\n",
    "\n",
    "Without list comprehension you will have to write a for statement with a conditional test inside:"
   ]
  },
  {
   "cell_type": "code",
   "execution_count": 7,
   "id": "31342ae2",
   "metadata": {},
   "outputs": [
    {
     "name": "stdout",
     "output_type": "stream",
     "text": [
      "['apple', 'banana', 'mango']\n"
     ]
    }
   ],
   "source": [
    "fruits = [\"apple\", \"banana\", \"cherry\", \"kiwi\", \"mango\"]\n",
    "newlist = []\n",
    "\n",
    "for x in fruits:\n",
    "  if \"a\" in x:\n",
    "    newlist.append(x)\n",
    "\n",
    "print(newlist)\n"
   ]
  },
  {
   "cell_type": "markdown",
   "id": "1c44c77f",
   "metadata": {},
   "source": [
    "With list comprehension you can do all that with only one line of code:"
   ]
  },
  {
   "cell_type": "code",
   "execution_count": 9,
   "id": "e33613f6",
   "metadata": {},
   "outputs": [
    {
     "name": "stdout",
     "output_type": "stream",
     "text": [
      "['apple', 'banana', 'mango']\n"
     ]
    }
   ],
   "source": [
    "newlist = [x for x in fruits if 'a' in x]\n",
    "\n",
    "print(newlist)"
   ]
  },
  {
   "cell_type": "markdown",
   "id": "cea3fede",
   "metadata": {},
   "source": [
    "## The Syntax\n",
    "newlist = [expression for item in iterable if condition == True]<br>\n",
    "The return value is a new list, leaving the old list unchanged."
   ]
  },
  {
   "cell_type": "markdown",
   "id": "9eef38a1",
   "metadata": {},
   "source": [
    "# Condition\n",
    "The condition is like a filter that only accepts the items that valuate to True."
   ]
  },
  {
   "cell_type": "code",
   "execution_count": 13,
   "id": "9b0e1514",
   "metadata": {},
   "outputs": [
    {
     "name": "stdout",
     "output_type": "stream",
     "text": [
      "['banana', 'cherry', 'kiwi', 'mango']\n"
     ]
    }
   ],
   "source": [
    "#Only accept items that are not \"apple\":\n",
    "newlst = [c for c in fruits if c != 'apple']\n",
    "print(newlst)"
   ]
  },
  {
   "cell_type": "code",
   "execution_count": 11,
   "id": "4ce88748",
   "metadata": {},
   "outputs": [
    {
     "data": {
      "text/plain": [
       "['apple', 'banana', 'cherry', 'kiwi', 'mango']"
      ]
     },
     "execution_count": 11,
     "metadata": {},
     "output_type": "execute_result"
    }
   ],
   "source": []
  },
  {
   "cell_type": "markdown",
   "id": "e2660c41",
   "metadata": {},
   "source": [
    "## Iterable\n",
    "The iterable can be any iterable object, like a list, tuple, set etc."
   ]
  },
  {
   "cell_type": "code",
   "execution_count": 14,
   "id": "7fdb1984",
   "metadata": {},
   "outputs": [
    {
     "name": "stdout",
     "output_type": "stream",
     "text": [
      "[0, 1, 2, 3, 4, 5, 6, 7, 8, 9]\n"
     ]
    }
   ],
   "source": [
    "newlst = [a for a in range(10)]\n",
    "print(newlst)"
   ]
  },
  {
   "cell_type": "code",
   "execution_count": 16,
   "id": "64c8839d",
   "metadata": {},
   "outputs": [
    {
     "name": "stdout",
     "output_type": "stream",
     "text": [
      "[0, 1, 2, 3, 4]\n"
     ]
    }
   ],
   "source": [
    "newlst = [s for s in range(10) if s < 5]\n",
    "print(newlst)"
   ]
  },
  {
   "cell_type": "markdown",
   "id": "fed2a907",
   "metadata": {},
   "source": [
    "## Expression\n",
    "The expression is the current item in the iteration, but it is also the outcome, which you can manipulate before it ends up like a list item in the new list:\n",
    "\n",
    "Set the values in the new list to upper case:"
   ]
  },
  {
   "cell_type": "code",
   "execution_count": 19,
   "id": "b876ebeb",
   "metadata": {},
   "outputs": [],
   "source": [
    "new = [ d.upper() for d in fruits]"
   ]
  },
  {
   "cell_type": "code",
   "execution_count": 20,
   "id": "4d09d71b",
   "metadata": {},
   "outputs": [
    {
     "data": {
      "text/plain": [
       "['APPLE', 'BANANA', 'CHERRY', 'KIWI', 'MANGO']"
      ]
     },
     "execution_count": 20,
     "metadata": {},
     "output_type": "execute_result"
    }
   ],
   "source": [
    "new"
   ]
  },
  {
   "cell_type": "code",
   "execution_count": 22,
   "id": "4b422271",
   "metadata": {},
   "outputs": [
    {
     "name": "stdout",
     "output_type": "stream",
     "text": [
      "['apple', 'orange', 'cherry', 'kiwi', 'mango']\n"
     ]
    }
   ],
   "source": [
    "new = [ x if x != 'banana' else 'orange' for x in fruits]\n",
    "print(new)"
   ]
  },
  {
   "cell_type": "markdown",
   "id": "666778cc",
   "metadata": {},
   "source": [
    "# Python - Sort Lists"
   ]
  },
  {
   "cell_type": "markdown",
   "id": "74b65084",
   "metadata": {},
   "source": [
    "Sort List Alphanumerically"
   ]
  },
  {
   "cell_type": "code",
   "execution_count": 24,
   "id": "1a928d89",
   "metadata": {},
   "outputs": [],
   "source": [
    "newlist.sort()"
   ]
  },
  {
   "cell_type": "code",
   "execution_count": 25,
   "id": "81d9f2ee",
   "metadata": {},
   "outputs": [
    {
     "data": {
      "text/plain": [
       "['apple', 'banana', 'mango']"
      ]
     },
     "execution_count": 25,
     "metadata": {},
     "output_type": "execute_result"
    }
   ],
   "source": [
    "newlist"
   ]
  },
  {
   "cell_type": "code",
   "execution_count": 35,
   "id": "b6a6706f",
   "metadata": {},
   "outputs": [],
   "source": [
    "newlist.sort(reverse = True)"
   ]
  },
  {
   "cell_type": "code",
   "execution_count": 36,
   "id": "ba8111cf",
   "metadata": {},
   "outputs": [
    {
     "data": {
      "text/plain": [
       "['mango', 'banana', 'apple']"
      ]
     },
     "execution_count": 36,
     "metadata": {},
     "output_type": "execute_result"
    }
   ],
   "source": [
    "newlist"
   ]
  },
  {
   "cell_type": "code",
   "execution_count": 29,
   "id": "f5582749",
   "metadata": {},
   "outputs": [],
   "source": [
    "aa = [1,6,7,9,1,4,25]"
   ]
  },
  {
   "cell_type": "code",
   "execution_count": 31,
   "id": "ce12362f",
   "metadata": {},
   "outputs": [],
   "source": [
    "aa.sort()"
   ]
  },
  {
   "cell_type": "code",
   "execution_count": 32,
   "id": "e7c0c754",
   "metadata": {},
   "outputs": [
    {
     "data": {
      "text/plain": [
       "[1, 1, 4, 6, 7, 9, 25]"
      ]
     },
     "execution_count": 32,
     "metadata": {},
     "output_type": "execute_result"
    }
   ],
   "source": [
    "aa"
   ]
  },
  {
   "cell_type": "code",
   "execution_count": 33,
   "id": "f1f49bc3",
   "metadata": {},
   "outputs": [],
   "source": [
    "aa.sort(reverse = True)"
   ]
  },
  {
   "cell_type": "code",
   "execution_count": 34,
   "id": "c7e18c27",
   "metadata": {},
   "outputs": [
    {
     "data": {
      "text/plain": [
       "[25, 9, 7, 6, 4, 1, 1]"
      ]
     },
     "execution_count": 34,
     "metadata": {},
     "output_type": "execute_result"
    }
   ],
   "source": [
    "aa"
   ]
  },
  {
   "cell_type": "markdown",
   "id": "974451c7",
   "metadata": {},
   "source": [
    "# Python - Copy Lists"
   ]
  },
  {
   "cell_type": "markdown",
   "id": "0d163659",
   "metadata": {},
   "source": [
    "## Copy a List\n",
    "You cannot copy a list simply by typing list2 = list1, because: list2 will only be a reference to list1, and changes made in list1 will automatically also be made in list2.\n",
    "\n",
    "There are ways to make a copy, one way is to use the built-in List method copy()."
   ]
  },
  {
   "cell_type": "code",
   "execution_count": 38,
   "id": "0b0e5db3",
   "metadata": {},
   "outputs": [],
   "source": [
    "kk = aa.copy()"
   ]
  },
  {
   "cell_type": "code",
   "execution_count": 39,
   "id": "db579158",
   "metadata": {},
   "outputs": [
    {
     "data": {
      "text/plain": [
       "[25, 9, 7, 6, 4, 1, 1]"
      ]
     },
     "execution_count": 39,
     "metadata": {},
     "output_type": "execute_result"
    }
   ],
   "source": [
    "kk"
   ]
  },
  {
   "cell_type": "markdown",
   "id": "abb08a98",
   "metadata": {},
   "source": [
    "Make a copy of a list with the list() method:"
   ]
  },
  {
   "cell_type": "code",
   "execution_count": 40,
   "id": "82e29d1e",
   "metadata": {},
   "outputs": [],
   "source": [
    "jj = list(kk)"
   ]
  },
  {
   "cell_type": "code",
   "execution_count": 41,
   "id": "27d861d3",
   "metadata": {},
   "outputs": [
    {
     "data": {
      "text/plain": [
       "[25, 9, 7, 6, 4, 1, 1]"
      ]
     },
     "execution_count": 41,
     "metadata": {},
     "output_type": "execute_result"
    }
   ],
   "source": [
    "jj"
   ]
  },
  {
   "cell_type": "markdown",
   "id": "9b54699e",
   "metadata": {},
   "source": [
    "# Python - Join Lists\n",
    "There are several ways to join, or concatenate, two or more lists in Python.\n",
    "\n",
    "One of the easiest ways are by using the + operator."
   ]
  },
  {
   "cell_type": "code",
   "execution_count": 42,
   "id": "9c7b0e13",
   "metadata": {},
   "outputs": [],
   "source": [
    "jl = jj+kk"
   ]
  },
  {
   "cell_type": "code",
   "execution_count": 43,
   "id": "aaf72b2d",
   "metadata": {},
   "outputs": [
    {
     "data": {
      "text/plain": [
       "[25, 9, 7, 6, 4, 1, 1, 25, 9, 7, 6, 4, 1, 1]"
      ]
     },
     "execution_count": 43,
     "metadata": {},
     "output_type": "execute_result"
    }
   ],
   "source": [
    "jl"
   ]
  },
  {
   "cell_type": "code",
   "execution_count": 44,
   "id": "1b100604",
   "metadata": {},
   "outputs": [],
   "source": [
    "aa.append(jj)"
   ]
  },
  {
   "cell_type": "code",
   "execution_count": 45,
   "id": "d73908d8",
   "metadata": {},
   "outputs": [
    {
     "data": {
      "text/plain": [
       "[25, 9, 7, 6, 4, 1, 1, [25, 9, 7, 6, 4, 1, 1]]"
      ]
     },
     "execution_count": 45,
     "metadata": {},
     "output_type": "execute_result"
    }
   ],
   "source": [
    "aa"
   ]
  },
  {
   "cell_type": "code",
   "execution_count": 48,
   "id": "3ef64232",
   "metadata": {},
   "outputs": [
    {
     "name": "stdout",
     "output_type": "stream",
     "text": [
      "[4, 5, 6, 8, 25, 9, 7, 6, 4, 1, 1]\n"
     ]
    }
   ],
   "source": [
    "bb = [4,5,6,8]\n",
    "for x in jj:\n",
    "    bb.append(x)\n",
    "print(bb)"
   ]
  },
  {
   "cell_type": "markdown",
   "id": "9a3d92a9",
   "metadata": {},
   "source": [
    "Use the extend() method to add list2 at the end of list1:"
   ]
  },
  {
   "cell_type": "code",
   "execution_count": 50,
   "id": "7a79b4c6",
   "metadata": {},
   "outputs": [],
   "source": [
    "ll = [1,5,7,96]"
   ]
  },
  {
   "cell_type": "code",
   "execution_count": 53,
   "id": "7afb6653",
   "metadata": {},
   "outputs": [],
   "source": [
    "dd = [1.5,6]\n",
    "dd.extend(ll)"
   ]
  },
  {
   "cell_type": "code",
   "execution_count": 54,
   "id": "10b06765",
   "metadata": {},
   "outputs": [
    {
     "data": {
      "text/plain": [
       "[1.5, 6, 1, 5, 7, 96]"
      ]
     },
     "execution_count": 54,
     "metadata": {},
     "output_type": "execute_result"
    }
   ],
   "source": [
    "dd"
   ]
  },
  {
   "cell_type": "markdown",
   "id": "b421dc75",
   "metadata": {},
   "source": [
    "# List Methods\n",
    "\n",
    "\n",
    "Method\t---------------Description<br>\n",
    "append()\t-----------------Adds an element at the end of the list<br>\n",
    "clear()\t-----------Removes all the elements from the list<br>\n",
    "copy()\t---------------Returns a copy of the list<br>\n",
    "count()\t-----------Returns the number of elements with the specified value<br>\n",
    "extend()\t----------Add the elements of a list (or any iterable), to the end of the current list<br>\n",
    "index()\t-----------Returns the index of the first element with the specified value<br>\n",
    "insert()\t-------------Adds an element at the specified position<br>\n",
    "pop()\t--------------Removes the element at the specified position<br>\n",
    "remove()\t---------Removes the item with the specified value<br>\n",
    "reverse()\t--------------Reverses the order of the list<br>\n",
    "sort()\t-----------Sorts the list\n"
   ]
  },
  {
   "cell_type": "code",
   "execution_count": 55,
   "id": "68270651",
   "metadata": {},
   "outputs": [],
   "source": [
    "dd.append('ak')"
   ]
  },
  {
   "cell_type": "code",
   "execution_count": 56,
   "id": "8713d414",
   "metadata": {},
   "outputs": [
    {
     "data": {
      "text/plain": [
       "[1.5, 6, 1, 5, 7, 96, 'ak']"
      ]
     },
     "execution_count": 56,
     "metadata": {},
     "output_type": "execute_result"
    }
   ],
   "source": [
    "dd"
   ]
  },
  {
   "cell_type": "code",
   "execution_count": 58,
   "id": "50bdc18a",
   "metadata": {},
   "outputs": [],
   "source": [
    "ll.clear()"
   ]
  },
  {
   "cell_type": "code",
   "execution_count": 59,
   "id": "c538f758",
   "metadata": {},
   "outputs": [
    {
     "data": {
      "text/plain": [
       "[]"
      ]
     },
     "execution_count": 59,
     "metadata": {},
     "output_type": "execute_result"
    }
   ],
   "source": [
    "ll"
   ]
  },
  {
   "cell_type": "code",
   "execution_count": 60,
   "id": "958377f6",
   "metadata": {},
   "outputs": [
    {
     "data": {
      "text/plain": [
       "['apple', 'banana', 'cherry', 'kiwi', 'mango']"
      ]
     },
     "execution_count": 60,
     "metadata": {},
     "output_type": "execute_result"
    }
   ],
   "source": [
    "fruits"
   ]
  },
  {
   "cell_type": "code",
   "execution_count": 61,
   "id": "ac8ff14d",
   "metadata": {},
   "outputs": [],
   "source": [
    "x = fruits.count('banaba')"
   ]
  },
  {
   "cell_type": "code",
   "execution_count": 62,
   "id": "7c357325",
   "metadata": {},
   "outputs": [
    {
     "data": {
      "text/plain": [
       "0"
      ]
     },
     "execution_count": 62,
     "metadata": {},
     "output_type": "execute_result"
    }
   ],
   "source": [
    "x"
   ]
  },
  {
   "cell_type": "markdown",
   "id": "8a58275d",
   "metadata": {},
   "source": [
    "index\n",
    "\n",
    "Returns the index of the first element with the specified value\n",
    "\n",
    "Note: The index() method only returns the first occurrence of the value."
   ]
  },
  {
   "cell_type": "code",
   "execution_count": 65,
   "id": "fd51fabc",
   "metadata": {},
   "outputs": [
    {
     "data": {
      "text/plain": [
       "3"
      ]
     },
     "execution_count": 65,
     "metadata": {},
     "output_type": "execute_result"
    }
   ],
   "source": [
    "dd.index(5)"
   ]
  },
  {
   "cell_type": "code",
   "execution_count": 66,
   "id": "a6ffa4f0",
   "metadata": {},
   "outputs": [],
   "source": [
    "dd.reverse()"
   ]
  },
  {
   "cell_type": "code",
   "execution_count": 67,
   "id": "a28eacf9",
   "metadata": {},
   "outputs": [
    {
     "data": {
      "text/plain": [
       "['ak', 96, 7, 5, 1, 6, 1.5]"
      ]
     },
     "execution_count": 67,
     "metadata": {},
     "output_type": "execute_result"
    }
   ],
   "source": [
    "dd"
   ]
  },
  {
   "cell_type": "code",
   "execution_count": null,
   "id": "ae79360d",
   "metadata": {},
   "outputs": [],
   "source": []
  }
 ],
 "metadata": {
  "kernelspec": {
   "display_name": "Python 3 (ipykernel)",
   "language": "python",
   "name": "python3"
  },
  "language_info": {
   "codemirror_mode": {
    "name": "ipython",
    "version": 3
   },
   "file_extension": ".py",
   "mimetype": "text/x-python",
   "name": "python",
   "nbconvert_exporter": "python",
   "pygments_lexer": "ipython3",
   "version": "3.7.9"
  }
 },
 "nbformat": 4,
 "nbformat_minor": 5
}
